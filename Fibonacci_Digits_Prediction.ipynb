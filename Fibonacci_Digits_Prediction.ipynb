{
 "cells": [
  {
   "cell_type": "code",
   "execution_count": 1,
   "id": "a67172e6-12e3-49bf-9960-6996ca30a866",
   "metadata": {},
   "outputs": [
    {
     "name": "stdout",
     "output_type": "stream",
     "text": [
      "Defaulting to user installation because normal site-packages is not writeable\n",
      "Requirement already satisfied: numpy in /usr/local/lib/python3.10/dist-packages (1.26.4)\n",
      "Requirement already satisfied: torch in /usr/local/lib/python3.10/dist-packages (2.2.0)\n",
      "Requirement already satisfied: scikit-learn in /home/manish/.local/lib/python3.10/site-packages (1.6.1)\n",
      "Requirement already satisfied: requests in /usr/local/lib/python3.10/dist-packages (2.31.0)\n",
      "Requirement already satisfied: matplotlib in /home/manish/.local/lib/python3.10/site-packages (3.10.1)\n",
      "Requirement already satisfied: nvidia-cudnn-cu12==8.9.2.26 in /usr/local/lib/python3.10/dist-packages (from torch) (8.9.2.26)\n",
      "Requirement already satisfied: sympy in /usr/local/lib/python3.10/dist-packages (from torch) (1.12)\n",
      "Requirement already satisfied: nvidia-cusparse-cu12==12.1.0.106 in /usr/local/lib/python3.10/dist-packages (from torch) (12.1.0.106)\n",
      "Requirement already satisfied: jinja2 in /usr/local/lib/python3.10/dist-packages (from torch) (3.1.3)\n",
      "Requirement already satisfied: filelock in /usr/local/lib/python3.10/dist-packages (from torch) (3.13.1)\n",
      "Requirement already satisfied: nvidia-cuda-runtime-cu12==12.1.105 in /usr/local/lib/python3.10/dist-packages (from torch) (12.1.105)\n",
      "Requirement already satisfied: nvidia-nccl-cu12==2.19.3 in /usr/local/lib/python3.10/dist-packages (from torch) (2.19.3)\n",
      "Requirement already satisfied: nvidia-cublas-cu12==12.1.3.1 in /usr/local/lib/python3.10/dist-packages (from torch) (12.1.3.1)\n",
      "Requirement already satisfied: triton==2.2.0 in /usr/local/lib/python3.10/dist-packages (from torch) (2.2.0)\n",
      "Requirement already satisfied: nvidia-cuda-cupti-cu12==12.1.105 in /usr/local/lib/python3.10/dist-packages (from torch) (12.1.105)\n",
      "Requirement already satisfied: nvidia-cusolver-cu12==11.4.5.107 in /usr/local/lib/python3.10/dist-packages (from torch) (11.4.5.107)\n",
      "Requirement already satisfied: networkx in /usr/local/lib/python3.10/dist-packages (from torch) (3.2.1)\n",
      "Requirement already satisfied: fsspec in /usr/local/lib/python3.10/dist-packages (from torch) (2024.2.0)\n",
      "Requirement already satisfied: nvidia-cuda-nvrtc-cu12==12.1.105 in /usr/local/lib/python3.10/dist-packages (from torch) (12.1.105)\n",
      "Requirement already satisfied: typing-extensions>=4.8.0 in /usr/local/lib/python3.10/dist-packages (from torch) (4.9.0)\n",
      "Requirement already satisfied: nvidia-nvtx-cu12==12.1.105 in /usr/local/lib/python3.10/dist-packages (from torch) (12.1.105)\n",
      "Requirement already satisfied: nvidia-cufft-cu12==11.0.2.54 in /usr/local/lib/python3.10/dist-packages (from torch) (11.0.2.54)\n",
      "Requirement already satisfied: nvidia-curand-cu12==10.3.2.106 in /usr/local/lib/python3.10/dist-packages (from torch) (10.3.2.106)\n",
      "Requirement already satisfied: nvidia-nvjitlink-cu12 in /usr/local/lib/python3.10/dist-packages (from nvidia-cusolver-cu12==11.4.5.107->torch) (12.3.101)\n",
      "Requirement already satisfied: scipy>=1.6.0 in /home/manish/.local/lib/python3.10/site-packages (from scikit-learn) (1.15.2)\n",
      "Requirement already satisfied: threadpoolctl>=3.1.0 in /home/manish/.local/lib/python3.10/site-packages (from scikit-learn) (3.5.0)\n",
      "Requirement already satisfied: joblib>=1.2.0 in /home/manish/.local/lib/python3.10/site-packages (from scikit-learn) (1.4.2)\n",
      "Requirement already satisfied: certifi>=2017.4.17 in /usr/local/lib/python3.10/dist-packages (from requests) (2024.2.2)\n",
      "Requirement already satisfied: urllib3<3,>=1.21.1 in /usr/lib/python3/dist-packages (from requests) (1.26.5)\n",
      "Requirement already satisfied: idna<4,>=2.5 in /usr/lib/python3/dist-packages (from requests) (3.3)\n",
      "Requirement already satisfied: charset-normalizer<4,>=2 in /usr/local/lib/python3.10/dist-packages (from requests) (3.3.2)\n",
      "Requirement already satisfied: pillow>=8 in /usr/lib/python3/dist-packages (from matplotlib) (9.0.1)\n",
      "Requirement already satisfied: contourpy>=1.0.1 in /home/manish/.local/lib/python3.10/site-packages (from matplotlib) (1.3.1)\n",
      "Requirement already satisfied: kiwisolver>=1.3.1 in /home/manish/.local/lib/python3.10/site-packages (from matplotlib) (1.4.8)\n",
      "Requirement already satisfied: packaging>=20.0 in /home/manish/.local/lib/python3.10/site-packages (from matplotlib) (24.2)\n",
      "Requirement already satisfied: python-dateutil>=2.7 in /usr/local/lib/python3.10/dist-packages (from matplotlib) (2.8.2)\n",
      "Requirement already satisfied: pyparsing>=2.3.1 in /usr/lib/python3/dist-packages (from matplotlib) (2.4.7)\n",
      "Requirement already satisfied: cycler>=0.10 in /home/manish/.local/lib/python3.10/site-packages (from matplotlib) (0.12.1)\n",
      "Requirement already satisfied: fonttools>=4.22.0 in /home/manish/.local/lib/python3.10/site-packages (from matplotlib) (4.56.0)\n",
      "Requirement already satisfied: six>=1.5 in /usr/lib/python3/dist-packages (from python-dateutil>=2.7->matplotlib) (1.16.0)\n",
      "Requirement already satisfied: MarkupSafe>=2.0 in /usr/lib/python3/dist-packages (from jinja2->torch) (2.0.1)\n",
      "Requirement already satisfied: mpmath>=0.19 in /usr/local/lib/python3.10/dist-packages (from sympy->torch) (1.3.0)\n"
     ]
    }
   ],
   "source": [
    "# Run this to install all the necessary packages\n",
    "\n",
    "!pip install numpy torch scikit-learn requests matplotlib"
   ]
  },
  {
   "cell_type": "code",
   "execution_count": 2,
   "id": "c8414672-5a9e-456d-b208-fe6b0f82f1e0",
   "metadata": {},
   "outputs": [],
   "source": [
    "# Import all the required packages\n",
    "\n",
    "import os\n",
    "import torch\n",
    "import json\n",
    "import requests\n",
    "import numpy as np\n",
    "import random\n",
    "import torch.nn as nn\n",
    "import torch.optim as optim\n",
    "import matplotlib.pyplot as plt\n",
    "from sklearn.model_selection import train_test_split\n",
    "from torch.utils.data import TensorDataset, DataLoader"
   ]
  },
  {
   "cell_type": "code",
   "execution_count": 3,
   "id": "23d3c61d-6618-403a-a57d-bba47cfd432a",
   "metadata": {},
   "outputs": [
    {
     "name": "stdout",
     "output_type": "stream",
     "text": [
      "✅ Fibonacci dataset prepared and stored in memory!\n"
     ]
    }
   ],
   "source": [
    "# Prepare dataset for training\n",
    "\n",
    "def prepare_fibonacci_dataset(sequence_length=20, total_numbers=100000):\n",
    "    # Generate Fibonacci sequence mod 10\n",
    "    fib_mod10 = [0, 1]\n",
    "    for _ in range(total_numbers - 2):\n",
    "        fib_mod10.append((fib_mod10[-1] + fib_mod10[-2]) % 10)\n",
    "    \n",
    "    # Create sequences and corresponding labels\n",
    "    X, y = [], []\n",
    "    for i in range(len(fib_mod10) - sequence_length):\n",
    "        X.append(fib_mod10[i : i + sequence_length])\n",
    "        y.append(fib_mod10[i + sequence_length])\n",
    "\n",
    "    # Convert to numpy arrays\n",
    "    X = np.array(X) / 9.0  # Normalize input (0 to 1)\n",
    "    y = np.array(y)  # Target is a digit (0-9)\n",
    "\n",
    "    # Convert to PyTorch tensors\n",
    "    X_tensor = torch.tensor(X, dtype=torch.float32)\n",
    "    y_tensor = torch.tensor(y, dtype=torch.long)\n",
    "\n",
    "    # Split dataset\n",
    "    X_train, X_test, y_train, y_test = train_test_split(X_tensor, y_tensor, test_size=0.2, random_state=42)\n",
    "\n",
    "    print(\"✅ Fibonacci dataset prepared and stored in memory!\")\n",
    "    return X_train, X_test, y_train, y_test\n",
    "\n",
    "# Call the function and store the dataset in memory\n",
    "X_train, X_test, y_train, y_test = prepare_fibonacci_dataset()"
   ]
  },
  {
   "cell_type": "code",
   "execution_count": 4,
   "id": "cce736a9-fd7b-42c8-98fc-e6ab79572f9b",
   "metadata": {},
   "outputs": [],
   "source": [
    "# Define LSTM Model \n",
    "\n",
    "class FibonacciLSTM(nn.Module):\n",
    "    def __init__(self, input_size=1, hidden_size=64, num_layers=2, output_size=10):\n",
    "        super(FibonacciLSTM, self).__init__()\n",
    "        self.hidden_size = hidden_size\n",
    "        self.num_layers = num_layers\n",
    "\n",
    "        self.lstm = nn.LSTM(input_size, hidden_size, num_layers, batch_first=True)\n",
    "        self.fc = nn.Linear(hidden_size, output_size)\n",
    "\n",
    "    def forward(self, x):\n",
    "        h0 = torch.zeros(self.num_layers, x.size(0), self.hidden_size).to(x.device)\n",
    "        c0 = torch.zeros(self.num_layers, x.size(0), self.hidden_size).to(x.device)\n",
    "\n",
    "        out, _ = self.lstm(x.unsqueeze(-1), (h0, c0))\n",
    "        out = self.fc(out[:, -1, :])  # Get output from last time step\n",
    "\n",
    "        return out"
   ]
  },
  {
   "cell_type": "code",
   "execution_count": 6,
   "id": "53318c13-aacc-42c5-9f7b-869891064c6f",
   "metadata": {},
   "outputs": [
    {
     "name": "stdout",
     "output_type": "stream",
     "text": [
      "Epoch [1/10], Loss: 0.7621, Confidence: 0.66, Accuracy: 74.08%\n",
      "Epoch [2/10], Loss: 0.0065, Confidence: 0.99, Accuracy: 100.00%\n",
      "Epoch [3/10], Loss: 0.0017, Confidence: 1.00, Accuracy: 100.00%\n",
      "Epoch [4/10], Loss: 0.0007, Confidence: 1.00, Accuracy: 100.00%\n",
      "Epoch [5/10], Loss: 0.0003, Confidence: 1.00, Accuracy: 100.00%\n",
      "Epoch [6/10], Loss: 0.0001, Confidence: 1.00, Accuracy: 100.00%\n",
      "Epoch [7/10], Loss: 0.0001, Confidence: 1.00, Accuracy: 100.00%\n",
      "Epoch [8/10], Loss: 0.0000, Confidence: 1.00, Accuracy: 100.00%\n",
      "Epoch [9/10], Loss: 0.0000, Confidence: 1.00, Accuracy: 100.00%\n",
      "Epoch [10/10], Loss: 0.0000, Confidence: 1.00, Accuracy: 100.00%\n",
      "✅ Fibonacci Model trained and stored in memory!\n",
      "✅ Fibonacci model results saved successfully!\n"
     ]
    }
   ],
   "source": [
    "# Train the model\n",
    "\n",
    "device = torch.device(\"cuda\" if torch.cuda.is_available() else \"cpu\")\n",
    "model = FibonacciLSTM().to(device)\n",
    "\n",
    "# Define loss function and optimizer\n",
    "criterion = nn.CrossEntropyLoss()\n",
    "optimizer = optim.Adam(model.parameters(), lr=0.001)\n",
    "\n",
    "# Create DataLoader\n",
    "batch_size = 64\n",
    "train_loader_fib = DataLoader(TensorDataset(X_train, y_train), batch_size=batch_size, shuffle=True)\n",
    "\n",
    "# Train model (Tracking confidence and accuracy)\n",
    "num_epochs = 10\n",
    "train_losses = []\n",
    "confidence_scores_fib = []\n",
    "accuracies_fib = []\n",
    "\n",
    "for epoch in range(num_epochs):\n",
    "    model.train()\n",
    "    total_loss = 0\n",
    "    epoch_confidence = []\n",
    "    correct_predictions = 0\n",
    "    total_samples = 0\n",
    "\n",
    "    for X_batch, y_batch in train_loader_fib:\n",
    "        X_batch, y_batch = X_batch.to(device), y_batch.to(device)\n",
    "\n",
    "        optimizer.zero_grad()\n",
    "        outputs = model(X_batch)\n",
    "\n",
    "        loss = criterion(outputs, y_batch)\n",
    "        loss.backward()\n",
    "        optimizer.step()\n",
    "\n",
    "        total_loss += loss.item()\n",
    "\n",
    "        # **Compute Confidence Score**\n",
    "        probabilities = torch.softmax(outputs, dim=1)  # Convert logits to probabilities\n",
    "        max_confidence, predicted = torch.max(probabilities, dim=1)  # Get max confidence score\n",
    "        epoch_confidence.extend(max_confidence.detach().cpu().numpy())\n",
    "\n",
    "        # **Compute Accuracy**\n",
    "        correct_predictions += (predicted == y_batch).sum().item()\n",
    "        total_samples += y_batch.size(0)\n",
    "\n",
    "    avg_loss = total_loss / len(train_loader_fib)\n",
    "    train_losses.append(avg_loss)\n",
    "\n",
    "    # Store average confidence & accuracy per epoch\n",
    "    confidence_scores_fib.append(np.mean(epoch_confidence))\n",
    "    accuracies_fib.append((correct_predictions / total_samples) * 100)\n",
    "\n",
    "    print(f\"Epoch [{epoch+1}/{num_epochs}], Loss: {avg_loss:.4f}, Confidence: {confidence_scores_fib[-1]:.2f}, Accuracy: {accuracies_fib[-1]:.2f}%\")\n",
    "\n",
    "print(\"✅ Fibonacci Model trained and stored in memory!\")\n",
    "\n",
    "# **Save Fibonacci model results**\n",
    "results_fib = {\n",
    "    \"confidence_scores\": [float(score) for score in confidence_scores_fib],\n",
    "    \"accuracies\": [float(acc) for acc in accuracies_fib] \n",
    "}\n",
    "\n",
    "with open(\"fib_results.json\", \"w\") as f:\n",
    "    json.dump(results_fib, f)\n",
    "\n",
    "print(\"✅ Fibonacci model results saved successfully!\")"
   ]
  },
  {
   "cell_type": "code",
   "execution_count": 7,
   "id": "fb42e128-a3d7-4cd3-9615-799cc894c4cd",
   "metadata": {},
   "outputs": [
    {
     "name": "stdout",
     "output_type": "stream",
     "text": [
      "📊 Fibonacci Test Accuracy: 100.00%\n"
     ]
    }
   ],
   "source": [
    "# Evaluate model performance\n",
    "\n",
    "model.eval()\n",
    "correct = 0\n",
    "total = 0\n",
    "\n",
    "with torch.no_grad():\n",
    "    for i in range(len(X_test)):\n",
    "        X = X_test[i].unsqueeze(0).to(device)\n",
    "        y = y_test[i].to(device)\n",
    "\n",
    "        outputs = model(X)\n",
    "        _, predicted = torch.max(outputs, 1)\n",
    "\n",
    "        correct += (predicted == y).sum().item()\n",
    "        total += 1\n",
    "\n",
    "accuracy = correct / total\n",
    "print(f\"📊 Fibonacci Test Accuracy: {accuracy * 100:.2f}%\")"
   ]
  },
  {
   "cell_type": "code",
   "execution_count": 9,
   "id": "35c3e708-55d6-4287-86b7-6ccdafb1ca4a",
   "metadata": {},
   "outputs": [
    {
     "name": "stdout",
     "output_type": "stream",
     "text": [
      "🎲 Random Guessing Accuracy: 9.98%\n"
     ]
    }
   ],
   "source": [
    "# Compare model performance with random guessing\n",
    "\n",
    "random_accuracy = sum(random.randint(0, 9) == y.item() for y in y_test) / len(y_test)\n",
    "print(f\"🎲 Random Guessing Accuracy: {random_accuracy * 100:.2f}%\")"
   ]
  },
  {
   "cell_type": "code",
   "execution_count": 10,
   "id": "b7c070e7-427b-4931-ba7c-055a8773f1fd",
   "metadata": {},
   "outputs": [
    {
     "name": "stdin",
     "output_type": "stream",
     "text": [
      "Enter a sequence of Fibonacci Mod 10 digits:  011\n"
     ]
    },
    {
     "name": "stdout",
     "output_type": "stream",
     "text": [
      "⚠️ Input must be at least 20 digits long!\n"
     ]
    }
   ],
   "source": [
    "# Predict the next digit given the first 20 digits (This is for you to try by giving input)\n",
    "\n",
    "def predict_next_fibonacci(input_digits):\n",
    "    # Remove non-digit characters\n",
    "    clean_digits = [d for d in input_digits if d.isdigit()]\n",
    "    \n",
    "    # Convert to numerical format\n",
    "    digits = np.array([int(d) for d in clean_digits])\n",
    "\n",
    "    # Check if input length is valid\n",
    "    sequence_length = 20\n",
    "    if len(digits) < sequence_length:\n",
    "        print(f\"⚠️ Input must be at least {sequence_length} digits long!\")\n",
    "        return\n",
    "    \n",
    "    # Use the last `sequence_length` digits\n",
    "    digits = digits[-sequence_length:]\n",
    "\n",
    "    # Normalize input (scale between 0 and 1)\n",
    "    X_input = np.array(digits) / 9.0\n",
    "    X_tensor = torch.tensor(X_input, dtype=torch.float32).unsqueeze(0).to(device)\n",
    "\n",
    "    # Predict the next digit\n",
    "    with torch.no_grad():\n",
    "        output = model(X_tensor)\n",
    "        predicted_digit = torch.argmax(output, dim=1).item()\n",
    "\n",
    "    print(f\"🔢 Predicted next Fibonacci digit after {input_digits} is: {predicted_digit}\")\n",
    "\n",
    "# Get user input and predict\n",
    "user_input = input(\"Enter a sequence of Fibonacci Mod 10 digits: \")\n",
    "predict_next_fibonacci(user_input)"
   ]
  },
  {
   "cell_type": "code",
   "execution_count": null,
   "id": "3cbc3c41-ed9e-406e-8d8f-f0c9bf85fc4b",
   "metadata": {},
   "outputs": [],
   "source": []
  }
 ],
 "metadata": {
  "kernelspec": {
   "display_name": "Python 3 (ipykernel)",
   "language": "python",
   "name": "python3"
  },
  "language_info": {
   "codemirror_mode": {
    "name": "ipython",
    "version": 3
   },
   "file_extension": ".py",
   "mimetype": "text/x-python",
   "name": "python",
   "nbconvert_exporter": "python",
   "pygments_lexer": "ipython3",
   "version": "3.10.12"
  }
 },
 "nbformat": 4,
 "nbformat_minor": 5
}
